{
 "cells": [
  {
   "cell_type": "markdown",
   "id": "873c4700",
   "metadata": {},
   "source": [
    "### Exploring Power And Sample Sizes\n",
    "\n",
    "A brief foray into the realm of statistical robustness:"
   ]
  },
  {
   "cell_type": "code",
   "execution_count": null,
   "id": "bd45e1dd",
   "metadata": {},
   "outputs": [],
   "source": [
    "import numpy as np\n",
    "import pandas as pd\n",
    "import scipy.stats as st\n",
    "\n",
    "import warnings\n",
    "warnings.filterwarnings(\"ignore\")"
   ]
  },
  {
   "cell_type": "code",
   "execution_count": null,
   "id": "8cacb9e3",
   "metadata": {},
   "outputs": [],
   "source": [
    "def one_prop_sample_size(p0, p1, alpha, power):\n",
    "    \"\"\"\n",
    "    Input:\n",
    "    - p0: Historical/known proportion to compare to\n",
    "    - p1: Desired proportion to test against\n",
    "    - alpha: Desired p-value\n",
    "    - power: Likelihood of avoiding type II error\n",
    "    \n",
    "    Output:\n",
    "    - return: Sample size\n",
    "    \n",
    "    Notes:\n",
    "    - Created using \"Sample Size for One Sample, Dichotomous Outcome\" taken from tinyurl.com/jyym9d9f\n",
    "    \"\"\"\n",
    "    z_score_a = st.norm.ppf((1 - alpha)/2)\n",
    "    z_score_b = st.norm.ppf(power)\n",
    "    ES = (p1 - p0)/np.sqrt(p1*(1 - p1))\n",
    "    return ((z_score_a + z_score_b)/ES)**2"
   ]
  },
  {
   "cell_type": "code",
   "execution_count": null,
   "id": "c2369eed",
   "metadata": {},
   "outputs": [],
   "source": [
    "one_prop_sample_size(0.6, 0.5, 0.05, 0.9)"
   ]
  },
  {
   "cell_type": "markdown",
   "id": "2f3d22d8",
   "metadata": {},
   "source": [
    "### Using Power To Calculate Sample Sizes For BILS Data"
   ]
  },
  {
   "cell_type": "code",
   "execution_count": null,
   "id": "877dda0e",
   "metadata": {},
   "outputs": [],
   "source": [
    "bls = pd.read_csv('data/blsdata.csv')"
   ]
  },
  {
   "cell_type": "code",
   "execution_count": null,
   "id": "0e9e29d0",
   "metadata": {
    "scrolled": true
   },
   "outputs": [],
   "source": [
    "bls = bls[~(bls[\"Occupations\"].str.contains(\"occupation\",case=False).fillna(False))]"
   ]
  },
  {
   "cell_type": "code",
   "execution_count": null,
   "id": "3156be59",
   "metadata": {},
   "outputs": [],
   "source": [
    "full_bls = bls.dropna(how='all').iloc[:-1]"
   ]
  },
  {
   "cell_type": "code",
   "execution_count": null,
   "id": "186a74aa",
   "metadata": {
    "scrolled": true
   },
   "outputs": [],
   "source": [
    "full_bls['Count'] = full_bls['Count'].str.replace(',','').astype(int)\n",
    "# Looking at occupations that are in the upper half in count in our dataset\n",
    "clean_bls = full_bls[full_bls['Count'] > 85]"
   ]
  },
  {
   "cell_type": "code",
   "execution_count": null,
   "id": "91b8be69",
   "metadata": {},
   "outputs": [],
   "source": [
    "clean_bls['Women'] = clean_bls['Women'].astype(float)\n",
    "clean_bls['Black or\\nAfrican\\nAmerican'] = clean_bls['Black or\\nAfrican\\nAmerican'].astype(float)\n",
    "clean_bls['Asian'] = clean_bls['Asian'].astype(float)\n",
    "clean_bls['Hispanic\\nor Latino'] = clean_bls['Hispanic\\nor Latino'].astype(float)"
   ]
  },
  {
   "cell_type": "code",
   "execution_count": null,
   "id": "96657802",
   "metadata": {},
   "outputs": [],
   "source": [
    "lst = []\n",
    "for prop in clean_bls['Women']:\n",
    "#     print(one_prop_sample_size(prop/100, 0.5, 0.05, 0.9))\n",
    "    lst += [one_prop_sample_size(prop/100, 0.5, 0.05, 0.99)]"
   ]
  },
  {
   "cell_type": "code",
   "execution_count": null,
   "id": "382742bd",
   "metadata": {},
   "outputs": [],
   "source": [
    "bias_w = clean_bls.reset_index()[['Occupations', 'Women']]\n",
    "\n",
    "w_samples = bias_w.assign(Sample=pd.Series(lst))"
   ]
  },
  {
   "cell_type": "code",
   "execution_count": null,
   "id": "3f3cbbea",
   "metadata": {},
   "outputs": [],
   "source": [
    "w_samples[\"Sample\"] = w_samples[\"Sample\"].apply(np.ceil)"
   ]
  },
  {
   "cell_type": "code",
   "execution_count": null,
   "id": "50ed34d6",
   "metadata": {},
   "outputs": [],
   "source": [
    "w_samples.sort_values(by=\"Sample\",ascending=False)"
   ]
  },
  {
   "cell_type": "code",
   "execution_count": null,
   "id": "d409aacd",
   "metadata": {},
   "outputs": [],
   "source": [
    "w_samples[\"Sample\"].describe()"
   ]
  },
  {
   "cell_type": "code",
   "execution_count": null,
   "id": "8f04781a",
   "metadata": {},
   "outputs": [],
   "source": [
    "potential = w_samples[(w_samples[\"Women\"] <= 65) & (w_samples[\"Women\"] >= 45) & (w_samples[\"Sample\"] <= 206)].sort_values(by=\"Sample\",ascending=False)"
   ]
  },
  {
   "cell_type": "code",
   "execution_count": null,
   "id": "2df2a1bd",
   "metadata": {},
   "outputs": [],
   "source": [
    "potential"
   ]
  },
  {
   "cell_type": "code",
   "execution_count": null,
   "id": "62eb3091",
   "metadata": {},
   "outputs": [],
   "source": []
  }
 ],
 "metadata": {
  "kernelspec": {
   "display_name": "Python 3 (ipykernel)",
   "language": "python",
   "name": "python3"
  },
  "language_info": {
   "codemirror_mode": {
    "name": "ipython",
    "version": 3
   },
   "file_extension": ".py",
   "mimetype": "text/x-python",
   "name": "python",
   "nbconvert_exporter": "python",
   "pygments_lexer": "ipython3",
   "version": "3.9.13"
  }
 },
 "nbformat": 4,
 "nbformat_minor": 5
}
