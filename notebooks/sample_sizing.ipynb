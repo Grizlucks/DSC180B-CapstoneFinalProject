{
 "cells": [
  {
   "cell_type": "markdown",
   "id": "873c4700",
   "metadata": {},
   "source": [
    "### Exploring Power And Sample Sizes\n",
    "\n",
    "A brief foray into the realm of statistical robustness:"
   ]
  },
  {
   "cell_type": "code",
   "execution_count": 1,
   "id": "bd45e1dd",
   "metadata": {},
   "outputs": [],
   "source": [
    "import numpy as np\n",
    "import pandas as pd\n",
    "import scipy.stats as st\n",
    "\n",
    "import warnings\n",
    "warnings.filterwarnings(\"ignore\")"
   ]
  },
  {
   "cell_type": "code",
   "execution_count": 2,
   "id": "8cacb9e3",
   "metadata": {},
   "outputs": [],
   "source": [
    "def one_prop_sample_size(p0, p1, alpha, power):\n",
    "    \"\"\"\n",
    "    Input:\n",
    "    - p0: Historical/known proportion to compare to\n",
    "    - p1: Desired proportion to test against\n",
    "    - alpha: Desired p-value\n",
    "    - power: Likelihood of avoiding type II error\n",
    "    \n",
    "    Output:\n",
    "    - return: Sample size\n",
    "    \n",
    "    Notes:\n",
    "    - Created using \"Sample Size for One Sample, Dichotomous Outcome\" taken from tinyurl.com/jyym9d9f\n",
    "    \"\"\"\n",
    "    z_score_a = st.norm.ppf((1 - alpha)/2)\n",
    "    z_score_b = st.norm.ppf(power)\n",
    "    ES = (p1 - p0)/np.sqrt(p1*(1 - p1))\n",
    "    return ((z_score_a + z_score_b)/ES)**2"
   ]
  },
  {
   "cell_type": "code",
   "execution_count": 3,
   "id": "c2369eed",
   "metadata": {},
   "outputs": [
    {
     "data": {
      "text/plain": [
       "37.13956540657675"
      ]
     },
     "execution_count": 3,
     "metadata": {},
     "output_type": "execute_result"
    }
   ],
   "source": [
    "one_prop_sample_size(0.6, 0.5, 0.05, 0.9)"
   ]
  },
  {
   "cell_type": "markdown",
   "id": "2f3d22d8",
   "metadata": {},
   "source": [
    "### Using Power To Calculate Sample Sizes For BILS Data"
   ]
  },
  {
   "cell_type": "code",
   "execution_count": 4,
   "id": "877dda0e",
   "metadata": {},
   "outputs": [],
   "source": [
    "bls = pd.read_csv('data/blsdata.csv')"
   ]
  },
  {
   "cell_type": "code",
   "execution_count": 5,
   "id": "0e9e29d0",
   "metadata": {
    "scrolled": true
   },
   "outputs": [],
   "source": [
    "bls = bls[~(bls[\"Occupations\"].str.contains(\"occupation\",case=False).fillna(False))]"
   ]
  },
  {
   "cell_type": "code",
   "execution_count": 6,
   "id": "3156be59",
   "metadata": {},
   "outputs": [],
   "source": [
    "full_bls = bls.dropna(how='all').iloc[:-1]"
   ]
  },
  {
   "cell_type": "code",
   "execution_count": 7,
   "id": "186a74aa",
   "metadata": {
    "scrolled": true
   },
   "outputs": [],
   "source": [
    "full_bls['Count'] = full_bls['Count'].str.replace(',','').astype(int)\n",
    "# Looking at occupations that are in the upper half in count in our dataset\n",
    "clean_bls = full_bls[full_bls['Count'] > 85]"
   ]
  },
  {
   "cell_type": "code",
   "execution_count": 8,
   "id": "91b8be69",
   "metadata": {},
   "outputs": [],
   "source": [
    "clean_bls['Women'] = clean_bls['Women'].astype(float)\n",
    "clean_bls['Black or\\nAfrican\\nAmerican'] = clean_bls['Black or\\nAfrican\\nAmerican'].astype(float)\n",
    "clean_bls['Asian'] = clean_bls['Asian'].astype(float)\n",
    "clean_bls['Hispanic\\nor Latino'] = clean_bls['Hispanic\\nor Latino'].astype(float)"
   ]
  },
  {
   "cell_type": "code",
   "execution_count": 16,
   "id": "96657802",
   "metadata": {},
   "outputs": [],
   "source": [
    "lst = []\n",
    "for prop in clean_bls['Women']:\n",
    "#     print(one_prop_sample_size(prop/100, 0.5, 0.05, 0.9))\n",
    "    lst += [one_prop_sample_size(prop/100, 0.5, 0.05, 0.99)]"
   ]
  },
  {
   "cell_type": "code",
   "execution_count": 17,
   "id": "382742bd",
   "metadata": {},
   "outputs": [],
   "source": [
    "bias_w = clean_bls.reset_index()[['Occupations', 'Women']]\n",
    "\n",
    "w_samples = bias_w.assign(Sample=pd.Series(lst))"
   ]
  },
  {
   "cell_type": "code",
   "execution_count": 18,
   "id": "3f3cbbea",
   "metadata": {},
   "outputs": [],
   "source": [
    "w_samples[\"Sample\"] = w_samples[\"Sample\"].apply(np.ceil)"
   ]
  },
  {
   "cell_type": "code",
   "execution_count": 19,
   "id": "50ed34d6",
   "metadata": {},
   "outputs": [
    {
     "data": {
      "text/html": [
       "<div>\n",
       "<style scoped>\n",
       "    .dataframe tbody tr th:only-of-type {\n",
       "        vertical-align: middle;\n",
       "    }\n",
       "\n",
       "    .dataframe tbody tr th {\n",
       "        vertical-align: top;\n",
       "    }\n",
       "\n",
       "    .dataframe thead th {\n",
       "        text-align: right;\n",
       "    }\n",
       "</style>\n",
       "<table border=\"1\" class=\"dataframe\">\n",
       "  <thead>\n",
       "    <tr style=\"text-align: right;\">\n",
       "      <th></th>\n",
       "      <th>Occupations</th>\n",
       "      <th>Women</th>\n",
       "      <th>Sample</th>\n",
       "    </tr>\n",
       "  </thead>\n",
       "  <tbody>\n",
       "    <tr>\n",
       "      <th>19</th>\n",
       "      <td>Property, real estate, and community associati...</td>\n",
       "      <td>50.3</td>\n",
       "      <td>142336.0</td>\n",
       "    </tr>\n",
       "    <tr>\n",
       "      <th>178</th>\n",
       "      <td>Retail salespersons</td>\n",
       "      <td>49.4</td>\n",
       "      <td>35584.0</td>\n",
       "    </tr>\n",
       "    <tr>\n",
       "      <th>245</th>\n",
       "      <td>Electrical, electronics, and electromechanical...</td>\n",
       "      <td>49.3</td>\n",
       "      <td>26144.0</td>\n",
       "    </tr>\n",
       "    <tr>\n",
       "      <th>180</th>\n",
       "      <td>Insurance sales agents</td>\n",
       "      <td>49.2</td>\n",
       "      <td>20016.0</td>\n",
       "    </tr>\n",
       "    <tr>\n",
       "      <th>90</th>\n",
       "      <td>Artists and related workers</td>\n",
       "      <td>49.2</td>\n",
       "      <td>20016.0</td>\n",
       "    </tr>\n",
       "    <tr>\n",
       "      <th>...</th>\n",
       "      <td>...</td>\n",
       "      <td>...</td>\n",
       "      <td>...</td>\n",
       "    </tr>\n",
       "    <tr>\n",
       "      <th>238</th>\n",
       "      <td>Heating, air conditioning, and refrigeration m...</td>\n",
       "      <td>2.3</td>\n",
       "      <td>6.0</td>\n",
       "    </tr>\n",
       "    <tr>\n",
       "      <th>237</th>\n",
       "      <td>Heavy vehicle and mobile equipment service tec...</td>\n",
       "      <td>1.2</td>\n",
       "      <td>6.0</td>\n",
       "    </tr>\n",
       "    <tr>\n",
       "      <th>236</th>\n",
       "      <td>Bus and truck mechanics and diesel engine spec...</td>\n",
       "      <td>1.2</td>\n",
       "      <td>6.0</td>\n",
       "    </tr>\n",
       "    <tr>\n",
       "      <th>235</th>\n",
       "      <td>Automotive service technicians and mechanics</td>\n",
       "      <td>2.9</td>\n",
       "      <td>6.0</td>\n",
       "    </tr>\n",
       "    <tr>\n",
       "      <th>234</th>\n",
       "      <td>Automotive body and related repairers</td>\n",
       "      <td>3.7</td>\n",
       "      <td>6.0</td>\n",
       "    </tr>\n",
       "  </tbody>\n",
       "</table>\n",
       "<p>278 rows × 3 columns</p>\n",
       "</div>"
      ],
      "text/plain": [
       "                                           Occupations  Women    Sample\n",
       "19   Property, real estate, and community associati...   50.3  142336.0\n",
       "178                                Retail salespersons   49.4   35584.0\n",
       "245  Electrical, electronics, and electromechanical...   49.3   26144.0\n",
       "180                             Insurance sales agents   49.2   20016.0\n",
       "90                         Artists and related workers   49.2   20016.0\n",
       "..                                                 ...    ...       ...\n",
       "238  Heating, air conditioning, and refrigeration m...    2.3       6.0\n",
       "237  Heavy vehicle and mobile equipment service tec...    1.2       6.0\n",
       "236  Bus and truck mechanics and diesel engine spec...    1.2       6.0\n",
       "235       Automotive service technicians and mechanics    2.9       6.0\n",
       "234              Automotive body and related repairers    3.7       6.0\n",
       "\n",
       "[278 rows x 3 columns]"
      ]
     },
     "execution_count": 19,
     "metadata": {},
     "output_type": "execute_result"
    }
   ],
   "source": [
    "w_samples.sort_values(by=\"Sample\",ascending=False)"
   ]
  },
  {
   "cell_type": "code",
   "execution_count": 20,
   "id": "d409aacd",
   "metadata": {},
   "outputs": [
    {
     "data": {
      "text/plain": [
       "count       278.000000\n",
       "mean       1183.035971\n",
       "std        9113.023892\n",
       "min           6.000000\n",
       "25%          10.000000\n",
       "50%          23.000000\n",
       "75%         103.000000\n",
       "max      142336.000000\n",
       "Name: Sample, dtype: float64"
      ]
     },
     "execution_count": 20,
     "metadata": {},
     "output_type": "execute_result"
    }
   ],
   "source": [
    "w_samples[\"Sample\"].describe()"
   ]
  },
  {
   "cell_type": "code",
   "execution_count": 27,
   "id": "8f04781a",
   "metadata": {},
   "outputs": [],
   "source": [
    "potential = w_samples[(w_samples[\"Women\"] <= 65) & (w_samples[\"Women\"] >= 45) & (w_samples[\"Sample\"] <= 206)].sort_values(by=\"Sample\",ascending=False)"
   ]
  },
  {
   "cell_type": "code",
   "execution_count": null,
   "id": "2df2a1bd",
   "metadata": {},
   "outputs": [],
   "source": []
  }
 ],
 "metadata": {
  "kernelspec": {
   "display_name": "Python 3 (ipykernel)",
   "language": "python",
   "name": "python3"
  },
  "language_info": {
   "codemirror_mode": {
    "name": "ipython",
    "version": 3
   },
   "file_extension": ".py",
   "mimetype": "text/x-python",
   "name": "python",
   "nbconvert_exporter": "python",
   "pygments_lexer": "ipython3",
   "version": "3.9.13"
  }
 },
 "nbformat": 4,
 "nbformat_minor": 5
}
