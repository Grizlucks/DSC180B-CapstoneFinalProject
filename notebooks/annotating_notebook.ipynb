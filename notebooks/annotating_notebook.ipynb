{
 "cells": [
  {
   "cell_type": "markdown",
   "source": [
    "# Image Annotating Notebook\n",
    "\n",
    "This notebook will serve as the labeling file for us to use. Instructions:\n",
    "- Pip install multi_label_pigeon if you don't have it\n",
    "- Run cells 1 - 3\n",
    "- Proceed with annotation in cell 3 (can only run in one sitting; do not restart the notebook while in the middle of annotating: You will have to start from the first image)\n",
    "- Run cells 4 and 5 to see the results of your annotation and save them (preferably under \\<YourName>Annotations)"
   ],
   "metadata": {}
  },
  {
   "cell_type": "code",
   "execution_count": 1,
   "source": [
    "# Cell 1: Imports\n",
    "from multi_label_pigeon import multi_label_annotate\n",
    "from IPython.display import display, Image\n",
    "import os\n",
    "import pandas as pd\n",
    "import numpy as np\n",
    "\n",
    "# DEFINE TEST_PATHS\n",
    "INPATH = \"../test/raw/\"\n",
    "OUTPATH = \"../test/out/\"\n"
   ],
   "outputs": [],
   "metadata": {}
  },
  {
   "cell_type": "code",
   "execution_count": 2,
   "source": [
    "# Cell 2: Getting all image file names into a list\n",
    "pngs = OUTPATH+\"image_data/\" + pd.Series(os.listdir(OUTPATH+\"image_data/\"))[pd.Series(os.listdir(OUTPATH+\"image_data/\")).str.contains('png')].sample(frac=1)"
   ],
   "outputs": [],
   "metadata": {}
  },
  {
   "cell_type": "code",
   "execution_count": 3,
   "source": [
    "# Cell 3: Creating annotation object and actually annotating images\n",
    "annotations = multi_label_annotate(\n",
    "    pngs,\n",
    "    options={'Gender':['Male','Female','Ambiguous']},\n",
    "    display_fn=lambda filename: display(Image(filename))\n",
    "    )"
   ],
   "outputs": [
    {
     "output_type": "display_data",
     "data": {
      "application/vnd.jupyter.widget-view+json": {
       "version_major": 2,
       "version_minor": 0,
       "model_id": "ea5e4d77db6d4d35bbce27be7364679b"
      },
      "text/plain": [
       "HTML(value='0 examples annotated, 11 examples left')"
      ]
     },
     "metadata": {}
    },
    {
     "output_type": "stream",
     "name": "stdout",
     "text": [
      "Gender\n"
     ]
    },
    {
     "output_type": "display_data",
     "data": {
      "application/vnd.jupyter.widget-view+json": {
       "version_major": 2,
       "version_minor": 0,
       "model_id": "c4e6b9fba9a84a93b68286d7ded3928c"
      },
      "text/plain": [
       "HBox(children=(Button(description='Male', style=ButtonStyle()), Button(description='Female', style=ButtonStyle…"
      ]
     },
     "metadata": {}
    },
    {
     "output_type": "stream",
     "name": "stdout",
     "text": [
      "\n"
     ]
    },
    {
     "output_type": "display_data",
     "data": {
      "application/vnd.jupyter.widget-view+json": {
       "version_major": 2,
       "version_minor": 0,
       "model_id": "1a0c496a88b64aa081a74582c857940e"
      },
      "text/plain": [
       "HBox(children=(Button(description='done', style=ButtonStyle()), Button(description='back', style=ButtonStyle()…"
      ]
     },
     "metadata": {}
    },
    {
     "output_type": "display_data",
     "data": {
      "application/vnd.jupyter.widget-view+json": {
       "version_major": 2,
       "version_minor": 0,
       "model_id": "617d5f5a898f4bf699d3d8d004d3a0fd"
      },
      "text/plain": [
       "Output()"
      ]
     },
     "metadata": {}
    }
   ],
   "metadata": {}
  },
  {
   "cell_type": "code",
   "execution_count": 4,
   "source": [
    "# Cell 4: See the final dictionary (IMPORTANT: MAKE SURE THE LENGTH OF THIS DICTIONARY MATCHES 2100)\n",
    "print(annotations)\n",
    "len(annotations) #== 2100"
   ],
   "outputs": [
    {
     "output_type": "stream",
     "name": "stdout",
     "text": [
      "{'../test/out/image_data/tester_0_7.png': {'Gender': ['Female']}, '../test/out/image_data/tester_0_2.png': {'Gender': ['Male']}, '../test/out/image_data/tester_0_3.png': {'Gender': ['Female']}, '../test/out/image_data/tester_0_8.png': {'Gender': ['Female']}, '../test/out/image_data/tester_0_5.png': {'Gender': ['Female']}, '../test/out/image_data/tester_0_1.png': {'Gender': ['Female']}, '../test/out/image_data/tester_0_4.png': {'Gender': ['Male']}, '../test/out/image_data/tester_0_0.png': {'Gender': ['Female']}, '../test/out/image_data/tester_0_6.png': {'Gender': ['Male']}, '../test/out/image_data/tester_0_9.png': {'Gender': ['Female']}}\n"
     ]
    },
    {
     "output_type": "execute_result",
     "data": {
      "text/plain": [
       "10"
      ]
     },
     "metadata": {},
     "execution_count": 4
    }
   ],
   "metadata": {}
  },
  {
   "cell_type": "code",
   "execution_count": 5,
   "source": [
    "# Cell 5: Clean data and save dataframe into csv\n",
    "df = pd.DataFrame([{\"Img\":key,\"Gender\":annotations[key][\"Gender\"]} for key in annotations.keys()])\n",
    "df[\"Gender\"] = df[\"Gender\"].str[0]\n",
    "df[\"Gender\"] = df[\"Gender\"].replace({\"Ambiguous\":\"Non-Male\",\"Female\":\"Non-Male\"})\n",
    "df.to_csv(f'{INPATH}labeled_results.csv')"
   ],
   "outputs": [],
   "metadata": {}
  },
  {
   "cell_type": "code",
   "execution_count": 6,
   "source": [
    "# Extra to see the result of your annotations\n",
    "df.head()"
   ],
   "outputs": [
    {
     "output_type": "execute_result",
     "data": {
      "text/html": [
       "<div>\n",
       "<style scoped>\n",
       "    .dataframe tbody tr th:only-of-type {\n",
       "        vertical-align: middle;\n",
       "    }\n",
       "\n",
       "    .dataframe tbody tr th {\n",
       "        vertical-align: top;\n",
       "    }\n",
       "\n",
       "    .dataframe thead th {\n",
       "        text-align: right;\n",
       "    }\n",
       "</style>\n",
       "<table border=\"1\" class=\"dataframe\">\n",
       "  <thead>\n",
       "    <tr style=\"text-align: right;\">\n",
       "      <th></th>\n",
       "      <th>Img</th>\n",
       "      <th>Gender</th>\n",
       "    </tr>\n",
       "  </thead>\n",
       "  <tbody>\n",
       "    <tr>\n",
       "      <th>0</th>\n",
       "      <td>../test/out/image_data/tester_0_7.png</td>\n",
       "      <td>Non-Male</td>\n",
       "    </tr>\n",
       "    <tr>\n",
       "      <th>1</th>\n",
       "      <td>../test/out/image_data/tester_0_2.png</td>\n",
       "      <td>Male</td>\n",
       "    </tr>\n",
       "    <tr>\n",
       "      <th>2</th>\n",
       "      <td>../test/out/image_data/tester_0_3.png</td>\n",
       "      <td>Non-Male</td>\n",
       "    </tr>\n",
       "    <tr>\n",
       "      <th>3</th>\n",
       "      <td>../test/out/image_data/tester_0_8.png</td>\n",
       "      <td>Non-Male</td>\n",
       "    </tr>\n",
       "    <tr>\n",
       "      <th>4</th>\n",
       "      <td>../test/out/image_data/tester_0_5.png</td>\n",
       "      <td>Non-Male</td>\n",
       "    </tr>\n",
       "  </tbody>\n",
       "</table>\n",
       "</div>"
      ],
      "text/plain": [
       "                                     Img    Gender\n",
       "0  ../test/out/image_data/tester_0_7.png  Non-Male\n",
       "1  ../test/out/image_data/tester_0_2.png      Male\n",
       "2  ../test/out/image_data/tester_0_3.png  Non-Male\n",
       "3  ../test/out/image_data/tester_0_8.png  Non-Male\n",
       "4  ../test/out/image_data/tester_0_5.png  Non-Male"
      ]
     },
     "metadata": {},
     "execution_count": 6
    }
   ],
   "metadata": {
    "scrolled": true
   }
  },
  {
   "cell_type": "code",
   "execution_count": null,
   "source": [],
   "outputs": [],
   "metadata": {}
  }
 ],
 "metadata": {
  "kernelspec": {
   "name": "python3",
   "display_name": "Python 3.9.13 64-bit ('aif360': conda)"
  },
  "language_info": {
   "codemirror_mode": {
    "name": "ipython",
    "version": 3
   },
   "file_extension": ".py",
   "mimetype": "text/x-python",
   "name": "python",
   "nbconvert_exporter": "python",
   "pygments_lexer": "ipython3",
   "version": "3.9.13"
  },
  "interpreter": {
   "hash": "1730e4276c61d7afe0fd0f3e570f132cdf084e00b76cbead69a9f06c81f6c42d"
  }
 },
 "nbformat": 4,
 "nbformat_minor": 5
}