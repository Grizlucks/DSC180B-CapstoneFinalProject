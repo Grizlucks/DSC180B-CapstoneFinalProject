{
 "cells": [
  {
   "cell_type": "markdown",
   "id": "4680ae2f",
   "metadata": {},
   "source": [
    "# Image Annotating Notebook\n",
    "\n",
    "This notebook will serve as the labeling file for us to use. Instructions:\n",
    "- Pip install multi_label_pigeon if you don't have it\n",
    "- Run cells 1 - 3\n",
    "- Proceed with annotation in cell 3 (can only run in one sitting; do not restart the notebook while in the middle of annotating: You will have to start from the first image)\n",
    "- Run cells 4 and 5 to see the results of your annotation and save them (preferably under \\<YourName>Annotations)"
   ]
  },
  {
   "cell_type": "code",
   "execution_count": null,
   "id": "70f3567b",
   "metadata": {},
   "outputs": [],
   "source": [
    "# Cell 1: Imports\n",
    "from multi_label_pigeon import multi_label_annotate\n",
    "from IPython.display import display, Image\n",
    "import os\n",
    "import pandas as pd\n",
    "import numpy as np"
   ]
  },
  {
   "cell_type": "code",
   "execution_count": null,
   "id": "43538f98",
   "metadata": {},
   "outputs": [],
   "source": [
    "# Cell 2: Getting all image file names into a list\n",
    "pngs = \"./image_data/\" + pd.Series(os.listdir(\"./image_data/\"))[pd.Series(os.listdir(\"./image_data/\")).str.contains('png')].sample(frac=1)"
   ]
  },
  {
   "cell_type": "code",
   "execution_count": null,
   "id": "e3b8d832",
   "metadata": {},
   "outputs": [],
   "source": [
    "# Cell 3: Creating annotation object and actually annotating images\n",
    "annotations = multi_label_annotate(\n",
    "    pngs,\n",
    "    options={'Gender':['Male','Female','Ambiguous']},\n",
    "    display_fn=lambda filename: display(Image(filename))\n",
    "    )"
   ]
  },
  {
   "cell_type": "code",
   "execution_count": null,
   "id": "d8bf1a1a",
   "metadata": {},
   "outputs": [],
   "source": [
    "# Cell 4: See the final dictionary (IMPORTANT: MAKE SURE THE LENGTH OF THIS DICTIONARY MATCHES 2100)\n",
    "print(annotations)\n",
    "len(annotations) == 2100"
   ]
  },
  {
   "cell_type": "code",
   "execution_count": null,
   "id": "0d78d34a",
   "metadata": {},
   "outputs": [],
   "source": [
    "# Cell 5: Clean data and save dataframe into csv\n",
    "df = pd.DataFrame([{\"Img\":key,\"Gender\":annotations[key][\"Gender\"]} for key in annotations.keys()])\n",
    "df[\"Gender\"] = df[\"Gender\"].str[0]\n",
    "df[\"Gender\"] = df[\"Gender\"].replace({\"Ambiguous\":\"Non-Male\",\"Female\":\"Non-Male\"})\n",
    "name = 'Vedan'\n",
    "df.to_csv(f'{name}Annotations.csv')"
   ]
  },
  {
   "cell_type": "code",
   "execution_count": null,
   "id": "1459698c",
   "metadata": {
    "scrolled": true
   },
   "outputs": [],
   "source": [
    "# Extra to see the result of your annotations\n",
    "df.head()"
   ]
  },
  {
   "cell_type": "code",
   "execution_count": null,
   "id": "6202271b",
   "metadata": {},
   "outputs": [],
   "source": []
  }
 ],
 "metadata": {
  "kernelspec": {
   "display_name": "Python 3 (ipykernel)",
   "language": "python",
   "name": "python3"
  },
  "language_info": {
   "codemirror_mode": {
    "name": "ipython",
    "version": 3
   },
   "file_extension": ".py",
   "mimetype": "text/x-python",
   "name": "python",
   "nbconvert_exporter": "python",
   "pygments_lexer": "ipython3",
   "version": "3.9.13"
  }
 },
 "nbformat": 4,
 "nbformat_minor": 5
}
