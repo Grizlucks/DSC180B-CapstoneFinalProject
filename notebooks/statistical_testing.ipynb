{
 "cells": [
  {
   "cell_type": "code",
   "execution_count": null,
   "source": [
    "import pandas as pd\n",
    "import numpy as np\n",
    "import matplotlib.pyplot as plt\n",
    "import seaborn as sns\n",
    "import re\n",
    "import os\n",
    "from pandas.plotting import table\n",
    "\n",
    "np.random.seed(101)"
   ],
   "outputs": [],
   "metadata": {}
  },
  {
   "cell_type": "code",
   "execution_count": null,
   "source": [
    "DATA_PATH = \"data/annotated_data/\"\n",
    "OCCUPATIONS_NAMES = pd.Series([\"Fitness Instructor\",\"Lawyer\",\"Bartender\",\"Financial Analyst\",\"Cook\",\n",
    "                                \"Dentist\",\"Biological Scientist\",\"Secondary School Teacher\",\n",
    "                                \"Pharmacist\",\"Janitor\"])\n",
    "OCCUPATIONS = pd.Series([\"Fitness Instructor\",\"Lawyer\",\"Bartender\",\"Financial Analyst\",\"Cook\",\n",
    "                                \"Dentist\",\"Biological Scientist\",\"Secondary School Teacher\",\n",
    "                                \"Pharmacist\",\"Janitor\"]).str.lower().str.replace(\" \",\"_\")"
   ],
   "outputs": [],
   "metadata": {
    "scrolled": true
   }
  },
  {
   "cell_type": "code",
   "execution_count": null,
   "source": [
    "annotations = []\n",
    "for fp in os.listdir(DATA_PATH):\n",
    "    author = re.match(\"(.+)Annotations.csv\",fp).groups()[0]\n",
    "    annotations += [pd.read_csv(DATA_PATH+fp).iloc[:,1:].set_index(\"Img\").rename(columns={\"Gender\":f\"{author}_Gender\".format()})]"
   ],
   "outputs": [],
   "metadata": {}
  },
  {
   "cell_type": "code",
   "execution_count": null,
   "source": [
    "male_counts = (pd.concat(annotations,axis=1) == \"Male\").sum(axis=1)\n",
    "# Number of non-unanimous results\n",
    "print(male_counts[(male_counts != 0) & (male_counts != 5)].shape[0])\n",
    "# Number of non-unanimous results likely attributed to human error\n",
    "print(male_counts[(male_counts == 1) | (male_counts == 4)].shape[0])\n",
    "# Number of non-unanimous results that may be contentious\n",
    "print(male_counts[(male_counts == 2) | (male_counts == 3)].shape[0])"
   ],
   "outputs": [],
   "metadata": {}
  },
  {
   "cell_type": "code",
   "execution_count": null,
   "source": [
    "df = (male_counts >= 3).reset_index()\n",
    "df.columns = [\"Img\",\"is_male\"]"
   ],
   "outputs": [],
   "metadata": {}
  },
  {
   "cell_type": "code",
   "execution_count": null,
   "source": [
    "proportions = {}\n",
    "sample_dist = {}\n",
    "p_vals = {}\n",
    "\n",
    "for occupation in OCCUPATIONS:\n",
    "    data_subset = df[df[\"Img\"].str.contains(occupation)]\n",
    "    \n",
    "    obs = np.mean(data_subset[\"is_male\"])\n",
    "    proportions[occupation] = obs\n",
    "    obs = np.abs(.5 - np.mean(data_subset[\"is_male\"]))\n",
    "    sample_stats = np.abs(.5 - np.random.choice([True,False],(data_subset.shape[0],1000000,)).mean(axis=0))\n",
    "    sample_dist[occupation] = {\"obs\":obs,\"samples\":sample_stats}\n",
    "    p_vals[occupation] = np.mean(sample_stats >= obs)"
   ],
   "outputs": [],
   "metadata": {}
  },
  {
   "cell_type": "code",
   "execution_count": null,
   "source": [
    "p_df = pd.Series(p_vals)\n",
    "p_df.index = OCCUPATIONS_NAMES\n",
    "p_df = p_df.reset_index()\n",
    "p_df.columns = [\"Occupation\",\"P-Value\"]\n",
    "p_df.to_csv(\"data/plot_data/p_values.csv\",index=False)"
   ],
   "outputs": [],
   "metadata": {}
  },
  {
   "cell_type": "code",
   "execution_count": null,
   "source": [
    "for occupation_name in OCCUPATIONS_NAMES:\n",
    "    occupation = occupation_name.lower().replace(\" \",\"_\")\n",
    "    p_value = p_vals[occupation]\n",
    "    p_value = p_value if p_value > 0 else \"< 1e-06\"\n",
    "    obs, sample_stats = (sample_dist[occupation][\"obs\"],sample_dist[occupation][\"samples\"])\n",
    "    hist = sns.histplot(sample_stats,stat = \"probability\",bins=40)\n",
    "    ax = hist.axes\n",
    "    plt.axvline(x=obs, color='red', linewidth=2);\n",
    "    plt.title(f\"Sample Distribution of Absolute Difference from 50% for {occupation_name} (p-value: {p_value})\",)\n",
    "    ax.set(xlabel='Absolute Difference of Proportions', ylabel='Density')\n",
    "    plt.savefig(f\"./data/plot_data/{occupation}_plot\",bbox_inches='tight', dpi=300)\n",
    "    plt.show()"
   ],
   "outputs": [],
   "metadata": {
    "scrolled": false
   }
  },
  {
   "cell_type": "code",
   "execution_count": null,
   "source": [
    "prop_df = pd.Series(proportions).to_frame().reset_index()\n",
    "prop_df.columns = [\"Occupation\", \"Proportion of Males\"]\n",
    "prop_df[\"Occupation\"] = OCCUPATIONS_NAMES\n",
    "prop_df.to_csv(\"data/plot_data/obs_props.csv\",index=False)\n",
    "\n",
    "\n",
    "prop_df = prop_df.sort_values(by=\"Proportion of Males\", ascending=False)\n",
    "\n",
    "\n",
    "#distance from equal proportion\n",
    "prop_df[\"Proportion of Males\"] -= 0.5 \n",
    "\n",
    "\n",
    "ax = plt.hlines(y = prop_df[\"Occupation\"],\n",
    "               xmin = 0,\n",
    "               xmax = prop_df[\"Proportion of Males\"],\n",
    "               linewidth = 5,\n",
    "               color = \"#1f77b4\")\n",
    "plt.title(\"Proportion of Images Labeled Male Compared to Demographic Parity\")\n",
    "plt.axvline(x = 0, color = \"red\")\n",
    "plt.xlim(-0.5, 0.5)\n",
    "loc, labels = plt.xticks()\n",
    "plt.xticks(loc, [round(i + 0.5, 1) for i in loc])\n",
    "plt.xlim(-0.5, 0.5)\n",
    "plt.savefig(\"./data/plot_data/proportion_plot\", bbox_inches=\"tight\", dpi=300)\n",
    "plt.show()"
   ],
   "outputs": [],
   "metadata": {}
  },
  {
   "cell_type": "code",
   "execution_count": null,
   "source": [],
   "outputs": [],
   "metadata": {}
  }
 ],
 "metadata": {
  "kernelspec": {
   "display_name": "Python 3 (ipykernel)",
   "language": "python",
   "name": "python3"
  },
  "language_info": {
   "codemirror_mode": {
    "name": "ipython",
    "version": 3
   },
   "file_extension": ".py",
   "mimetype": "text/x-python",
   "name": "python",
   "nbconvert_exporter": "python",
   "pygments_lexer": "ipython3",
   "version": "3.9.13"
  }
 },
 "nbformat": 4,
 "nbformat_minor": 5
}