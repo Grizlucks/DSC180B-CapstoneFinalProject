{
 "cells": [
  {
   "cell_type": "markdown",
   "id": "873c4700",
   "metadata": {},
   "source": [
    "### Exploring Power And Sample Sizes\n",
    "\n",
    "A brief foray into the realm of statistical robustness:"
   ]
  },
  {
   "cell_type": "code",
   "execution_count": 1,
   "id": "bd45e1dd",
   "metadata": {},
   "outputs": [],
   "source": [
    "import numpy as np\n",
    "import pandas as pd\n",
    "import scipy.stats as st\n",
    "\n",
    "import warnings\n",
    "warnings.filterwarnings(\"ignore\")"
   ]
  },
  {
   "cell_type": "code",
   "execution_count": 2,
   "id": "8cacb9e3",
   "metadata": {},
   "outputs": [],
   "source": [
    "def one_prop_sample_size(p0, p1, alpha, power):\n",
    "    \"\"\"\n",
    "    Input:\n",
    "    - p0: Historical/known proportion to compare to\n",
    "    - p1: Desired proportion to test against\n",
    "    - alpha: Desired p-value\n",
    "    - power: Likelihood of avoiding type II error\n",
    "    \n",
    "    Output:\n",
    "    - return: Sample size\n",
    "    \n",
    "    Notes:\n",
    "    - Created using \"Sample Size for One Sample, Dichotomous Outcome\" taken from tinyurl.com/jyym9d9f\n",
    "    \"\"\"\n",
    "    z_score_a = st.norm.ppf((1 - alpha)/2)\n",
    "    z_score_b = st.norm.ppf(power)\n",
    "    ES = (p1 - p0)/np.sqrt(p1*(1 - p1))\n",
    "    return ((z_score_a + z_score_b)/ES)**2"
   ]
  },
  {
   "cell_type": "code",
   "execution_count": 3,
   "id": "c2369eed",
   "metadata": {},
   "outputs": [
    {
     "data": {
      "text/plain": [
       "37.13956540657675"
      ]
     },
     "execution_count": 3,
     "metadata": {},
     "output_type": "execute_result"
    }
   ],
   "source": [
    "one_prop_sample_size(0.6, 0.5, 0.05, 0.9)"
   ]
  },
  {
   "cell_type": "markdown",
   "id": "2f3d22d8",
   "metadata": {},
   "source": [
    "### Using Power To Calculate Sample Sizes For BILS Data"
   ]
  },
  {
   "cell_type": "code",
   "execution_count": 4,
   "id": "877dda0e",
   "metadata": {},
   "outputs": [],
   "source": [
    "bls = pd.read_csv('blsdata.csv')"
   ]
  },
  {
   "cell_type": "code",
   "execution_count": 5,
   "id": "3156be59",
   "metadata": {},
   "outputs": [],
   "source": [
    "full_bls = bls.dropna(how='all').iloc[:-1]"
   ]
  },
  {
   "cell_type": "code",
   "execution_count": 6,
   "id": "d8f717f8",
   "metadata": {},
   "outputs": [
    {
     "data": {
      "text/plain": [
       "Occupations                    0\n",
       "Count                          0\n",
       "Women                          0\n",
       "White                          0\n",
       "Black or\\nAfrican\\nAmerican    0\n",
       "Asian                          0\n",
       "Hispanic\\nor Latino            0\n",
       "dtype: int64"
      ]
     },
     "execution_count": 6,
     "metadata": {},
     "output_type": "execute_result"
    }
   ],
   "source": [
    "full_bls.isna().sum()"
   ]
  },
  {
   "cell_type": "code",
   "execution_count": 7,
   "id": "186a74aa",
   "metadata": {},
   "outputs": [],
   "source": [
    "full_bls['Count'] = full_bls['Count'].str.replace(',','').astype(int)\n",
    "clean_bls = full_bls[full_bls['Count'] > 48]"
   ]
  },
  {
   "cell_type": "code",
   "execution_count": 8,
   "id": "91b8be69",
   "metadata": {},
   "outputs": [],
   "source": [
    "clean_bls['Women'] = clean_bls['Women'].astype(float)\n",
    "clean_bls['Black or\\nAfrican\\nAmerican'] = clean_bls['Black or\\nAfrican\\nAmerican'].astype(float)\n",
    "clean_bls['Asian'] = clean_bls['Asian'].astype(float)\n",
    "clean_bls['Hispanic\\nor Latino'] = clean_bls['Hispanic\\nor Latino'].astype(float)"
   ]
  },
  {
   "cell_type": "code",
   "execution_count": 9,
   "id": "96657802",
   "metadata": {},
   "outputs": [],
   "source": [
    "lst = []\n",
    "for prop in clean_bls['Women']:\n",
    "    lst += [one_prop_sample_size(prop/100, 0.5, 0.05, 0.9)]"
   ]
  },
  {
   "cell_type": "code",
   "execution_count": 10,
   "id": "382742bd",
   "metadata": {},
   "outputs": [],
   "source": [
    "bias_w = clean_bls.reset_index()[['Occupations', 'Women']]\n",
    "\n",
    "w_samples = bias_w.assign(Sample=pd.Series(lst))"
   ]
  },
  {
   "cell_type": "code",
   "execution_count": 11,
   "id": "3f3cbbea",
   "metadata": {},
   "outputs": [
    {
     "data": {
      "text/html": [
       "<div>\n",
       "<style scoped>\n",
       "    .dataframe tbody tr th:only-of-type {\n",
       "        vertical-align: middle;\n",
       "    }\n",
       "\n",
       "    .dataframe tbody tr th {\n",
       "        vertical-align: top;\n",
       "    }\n",
       "\n",
       "    .dataframe thead th {\n",
       "        text-align: right;\n",
       "    }\n",
       "</style>\n",
       "<table border=\"1\" class=\"dataframe\">\n",
       "  <thead>\n",
       "    <tr style=\"text-align: right;\">\n",
       "      <th></th>\n",
       "      <th>Occupations</th>\n",
       "      <th>Women</th>\n",
       "      <th>Sample</th>\n",
       "    </tr>\n",
       "  </thead>\n",
       "  <tbody>\n",
       "    <tr>\n",
       "      <th>0</th>\n",
       "      <td>Management,  professional, and related occupat...</td>\n",
       "      <td>51.5</td>\n",
       "      <td>1650.647351</td>\n",
       "    </tr>\n",
       "    <tr>\n",
       "      <th>1</th>\n",
       "      <td>Management, business, and financial operations...</td>\n",
       "      <td>44.8</td>\n",
       "      <td>137.350464</td>\n",
       "    </tr>\n",
       "    <tr>\n",
       "      <th>2</th>\n",
       "      <td>Management occupations</td>\n",
       "      <td>40.5</td>\n",
       "      <td>41.151873</td>\n",
       "    </tr>\n",
       "    <tr>\n",
       "      <th>3</th>\n",
       "      <td>Chief executives</td>\n",
       "      <td>29.2</td>\n",
       "      <td>8.584404</td>\n",
       "    </tr>\n",
       "    <tr>\n",
       "      <th>4</th>\n",
       "      <td>General and operations managers</td>\n",
       "      <td>35.4</td>\n",
       "      <td>17.423328</td>\n",
       "    </tr>\n",
       "  </tbody>\n",
       "</table>\n",
       "</div>"
      ],
      "text/plain": [
       "                                         Occupations  Women       Sample\n",
       "0  Management,  professional, and related occupat...   51.5  1650.647351\n",
       "1  Management, business, and financial operations...   44.8   137.350464\n",
       "2                             Management occupations   40.5    41.151873\n",
       "3                                   Chief executives   29.2     8.584404\n",
       "4                    General and operations managers   35.4    17.423328"
      ]
     },
     "execution_count": 11,
     "metadata": {},
     "output_type": "execute_result"
    }
   ],
   "source": [
    "w_samples.head()"
   ]
  },
  {
   "cell_type": "code",
   "execution_count": null,
   "id": "50ed34d6",
   "metadata": {},
   "outputs": [],
   "source": []
  }
 ],
 "metadata": {
  "kernelspec": {
   "display_name": "Python 3 (ipykernel)",
   "language": "python",
   "name": "python3"
  },
  "language_info": {
   "codemirror_mode": {
    "name": "ipython",
    "version": 3
   },
   "file_extension": ".py",
   "mimetype": "text/x-python",
   "name": "python",
   "nbconvert_exporter": "python",
   "pygments_lexer": "ipython3",
   "version": "3.10.7"
  }
 },
 "nbformat": 4,
 "nbformat_minor": 5
}
