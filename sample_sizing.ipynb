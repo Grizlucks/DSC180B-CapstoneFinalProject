{
 "cells": [
  {
   "cell_type": "markdown",
   "id": "873c4700",
   "metadata": {},
   "source": [
    "### Exploring Power And Sample Sizes\n",
    "\n",
    "A brief foray into the realm of statistical robustness:"
   ]
  },
  {
   "cell_type": "code",
   "execution_count": 1,
   "id": "bd45e1dd",
   "metadata": {},
   "outputs": [],
   "source": [
    "import numpy as np\n",
    "import pandas as pd\n",
    "import scipy.stats as st\n",
    "\n",
    "import warnings\n",
    "warnings.filterwarnings(\"ignore\")"
   ]
  },
  {
   "cell_type": "code",
   "execution_count": 2,
   "id": "8cacb9e3",
   "metadata": {},
   "outputs": [],
   "source": [
    "def one_prop_sample_size(p0, p1, alpha, power):\n",
    "    \"\"\"\n",
    "    Input:\n",
    "    - p0: Historical/known proportion to compare to\n",
    "    - p1: Desired proportion to test against\n",
    "    - alpha: Desired p-value\n",
    "    - power: Likelihood of avoiding type II error\n",
    "    \n",
    "    Output:\n",
    "    - return: Sample size\n",
    "    \n",
    "    Notes:\n",
    "    - Created using \"Sample Size for One Sample, Dichotomous Outcome\" taken from tinyurl.com/jyym9d9f\n",
    "    \"\"\"\n",
    "    z_score_a = st.norm.ppf((1 - alpha)/2)\n",
    "    z_score_b = st.norm.ppf(power)\n",
    "    ES = (p1 - p0)/np.sqrt(p1*(1 - p1))\n",
    "    return ((z_score_a + z_score_b)/ES)**2"
   ]
  },
  {
   "cell_type": "code",
   "execution_count": 3,
   "id": "c2369eed",
   "metadata": {},
   "outputs": [
    {
     "data": {
      "text/plain": [
       "37.13956540657675"
      ]
     },
     "execution_count": 3,
     "metadata": {},
     "output_type": "execute_result"
    }
   ],
   "source": [
    "one_prop_sample_size(0.6, 0.5, 0.05, 0.9)"
   ]
  },
  {
   "cell_type": "markdown",
   "id": "2f3d22d8",
   "metadata": {},
   "source": [
    "### Using Power To Calculate Sample Sizes For BILS Data"
   ]
  },
  {
   "cell_type": "code",
   "execution_count": 4,
   "id": "877dda0e",
   "metadata": {},
   "outputs": [],
   "source": [
    "bls = pd.read_csv('data/blsdata.csv')"
   ]
  },
  {
   "cell_type": "code",
   "execution_count": 5,
   "id": "0e9e29d0",
   "metadata": {
    "scrolled": true
   },
   "outputs": [],
   "source": [
    "bls = bls[~(bls[\"Occupations\"].str.contains(\"occupation\",case=False).fillna(False))]"
   ]
  },
  {
   "cell_type": "code",
   "execution_count": 6,
   "id": "3156be59",
   "metadata": {},
   "outputs": [],
   "source": [
    "full_bls = bls.dropna(how='all').iloc[:-1]"
   ]
  },
  {
   "cell_type": "code",
   "execution_count": 7,
   "id": "186a74aa",
   "metadata": {
    "scrolled": true
   },
   "outputs": [],
   "source": [
    "full_bls['Count'] = full_bls['Count'].str.replace(',','').astype(int)\n",
    "# Looking at occupations that are in the upper half in count in our dataset\n",
    "clean_bls = full_bls[full_bls['Count'] > 85]"
   ]
  },
  {
   "cell_type": "code",
   "execution_count": 8,
   "id": "91b8be69",
   "metadata": {},
   "outputs": [],
   "source": [
    "clean_bls['Women'] = clean_bls['Women'].astype(float)\n",
    "clean_bls['Black or\\nAfrican\\nAmerican'] = clean_bls['Black or\\nAfrican\\nAmerican'].astype(float)\n",
    "clean_bls['Asian'] = clean_bls['Asian'].astype(float)\n",
    "clean_bls['Hispanic\\nor Latino'] = clean_bls['Hispanic\\nor Latino'].astype(float)"
   ]
  },
  {
   "cell_type": "code",
   "execution_count": 9,
   "id": "96657802",
   "metadata": {},
   "outputs": [],
   "source": [
    "lst = []\n",
    "for prop in clean_bls['Women']:\n",
    "#     print(one_prop_sample_size(prop/100, 0.5, 0.05, 0.9))\n",
    "    lst += [one_prop_sample_size(prop/100, 0.5, 0.05, 0.99)]"
   ]
  },
  {
   "cell_type": "code",
   "execution_count": 10,
   "id": "382742bd",
   "metadata": {},
   "outputs": [],
   "source": [
    "bias_w = clean_bls.reset_index()[['Occupations', 'Women']]\n",
    "\n",
    "w_samples = bias_w.assign(Sample=pd.Series(lst))"
   ]
  },
  {
   "cell_type": "code",
   "execution_count": 11,
   "id": "3f3cbbea",
   "metadata": {},
   "outputs": [],
   "source": [
    "w_samples[\"Sample\"] = w_samples[\"Sample\"].apply(np.ceil)"
   ]
  },
  {
   "cell_type": "code",
   "execution_count": 12,
   "id": "50ed34d6",
   "metadata": {},
   "outputs": [
    {
     "data": {
      "text/html": [
       "<div>\n",
       "<style scoped>\n",
       "    .dataframe tbody tr th:only-of-type {\n",
       "        vertical-align: middle;\n",
       "    }\n",
       "\n",
       "    .dataframe tbody tr th {\n",
       "        vertical-align: top;\n",
       "    }\n",
       "\n",
       "    .dataframe thead th {\n",
       "        text-align: right;\n",
       "    }\n",
       "</style>\n",
       "<table border=\"1\" class=\"dataframe\">\n",
       "  <thead>\n",
       "    <tr style=\"text-align: right;\">\n",
       "      <th></th>\n",
       "      <th>Occupations</th>\n",
       "      <th>Women</th>\n",
       "      <th>Sample</th>\n",
       "    </tr>\n",
       "  </thead>\n",
       "  <tbody>\n",
       "    <tr>\n",
       "      <th>19</th>\n",
       "      <td>Property, real estate, and community associati...</td>\n",
       "      <td>50.3</td>\n",
       "      <td>142336.0</td>\n",
       "    </tr>\n",
       "    <tr>\n",
       "      <th>178</th>\n",
       "      <td>Retail salespersons</td>\n",
       "      <td>49.4</td>\n",
       "      <td>35584.0</td>\n",
       "    </tr>\n",
       "    <tr>\n",
       "      <th>245</th>\n",
       "      <td>Electrical, electronics, and electromechanical...</td>\n",
       "      <td>49.3</td>\n",
       "      <td>26144.0</td>\n",
       "    </tr>\n",
       "    <tr>\n",
       "      <th>180</th>\n",
       "      <td>Insurance sales agents</td>\n",
       "      <td>49.2</td>\n",
       "      <td>20016.0</td>\n",
       "    </tr>\n",
       "    <tr>\n",
       "      <th>90</th>\n",
       "      <td>Artists and related workers</td>\n",
       "      <td>49.2</td>\n",
       "      <td>20016.0</td>\n",
       "    </tr>\n",
       "    <tr>\n",
       "      <th>...</th>\n",
       "      <td>...</td>\n",
       "      <td>...</td>\n",
       "      <td>...</td>\n",
       "    </tr>\n",
       "    <tr>\n",
       "      <th>238</th>\n",
       "      <td>Heating, air conditioning, and refrigeration m...</td>\n",
       "      <td>2.3</td>\n",
       "      <td>6.0</td>\n",
       "    </tr>\n",
       "    <tr>\n",
       "      <th>237</th>\n",
       "      <td>Heavy vehicle and mobile equipment service tec...</td>\n",
       "      <td>1.2</td>\n",
       "      <td>6.0</td>\n",
       "    </tr>\n",
       "    <tr>\n",
       "      <th>236</th>\n",
       "      <td>Bus and truck mechanics and diesel engine spec...</td>\n",
       "      <td>1.2</td>\n",
       "      <td>6.0</td>\n",
       "    </tr>\n",
       "    <tr>\n",
       "      <th>235</th>\n",
       "      <td>Automotive service technicians and mechanics</td>\n",
       "      <td>2.9</td>\n",
       "      <td>6.0</td>\n",
       "    </tr>\n",
       "    <tr>\n",
       "      <th>234</th>\n",
       "      <td>Automotive body and related repairers</td>\n",
       "      <td>3.7</td>\n",
       "      <td>6.0</td>\n",
       "    </tr>\n",
       "  </tbody>\n",
       "</table>\n",
       "<p>278 rows × 3 columns</p>\n",
       "</div>"
      ],
      "text/plain": [
       "                                           Occupations  Women    Sample\n",
       "19   Property, real estate, and community associati...   50.3  142336.0\n",
       "178                                Retail salespersons   49.4   35584.0\n",
       "245  Electrical, electronics, and electromechanical...   49.3   26144.0\n",
       "180                             Insurance sales agents   49.2   20016.0\n",
       "90                         Artists and related workers   49.2   20016.0\n",
       "..                                                 ...    ...       ...\n",
       "238  Heating, air conditioning, and refrigeration m...    2.3       6.0\n",
       "237  Heavy vehicle and mobile equipment service tec...    1.2       6.0\n",
       "236  Bus and truck mechanics and diesel engine spec...    1.2       6.0\n",
       "235       Automotive service technicians and mechanics    2.9       6.0\n",
       "234              Automotive body and related repairers    3.7       6.0\n",
       "\n",
       "[278 rows x 3 columns]"
      ]
     },
     "execution_count": 12,
     "metadata": {},
     "output_type": "execute_result"
    }
   ],
   "source": [
    "w_samples.sort_values(by=\"Sample\",ascending=False)"
   ]
  },
  {
   "cell_type": "code",
   "execution_count": 13,
   "id": "d409aacd",
   "metadata": {},
   "outputs": [
    {
     "data": {
      "text/plain": [
       "count       278.000000\n",
       "mean       1183.035971\n",
       "std        9113.023892\n",
       "min           6.000000\n",
       "25%          10.000000\n",
       "50%          23.000000\n",
       "75%         103.000000\n",
       "max      142336.000000\n",
       "Name: Sample, dtype: float64"
      ]
     },
     "execution_count": 13,
     "metadata": {},
     "output_type": "execute_result"
    }
   ],
   "source": [
    "w_samples[\"Sample\"].describe()"
   ]
  },
  {
   "cell_type": "code",
   "execution_count": 14,
   "id": "8f04781a",
   "metadata": {},
   "outputs": [],
   "source": [
    "potential = w_samples[(w_samples[\"Women\"] <= 65) & (w_samples[\"Women\"] >= 45) & (w_samples[\"Sample\"] <= 206)].sort_values(by=\"Sample\",ascending=False)"
   ]
  },
  {
   "cell_type": "code",
   "execution_count": 15,
   "id": "2df2a1bd",
   "metadata": {},
   "outputs": [
    {
     "data": {
      "text/html": [
       "<div>\n",
       "<style scoped>\n",
       "    .dataframe tbody tr th:only-of-type {\n",
       "        vertical-align: middle;\n",
       "    }\n",
       "\n",
       "    .dataframe tbody tr th {\n",
       "        vertical-align: top;\n",
       "    }\n",
       "\n",
       "    .dataframe thead th {\n",
       "        text-align: right;\n",
       "    }\n",
       "</style>\n",
       "<table border=\"1\" class=\"dataframe\">\n",
       "  <thead>\n",
       "    <tr style=\"text-align: right;\">\n",
       "      <th></th>\n",
       "      <th>Occupations</th>\n",
       "      <th>Women</th>\n",
       "      <th>Sample</th>\n",
       "    </tr>\n",
       "  </thead>\n",
       "  <tbody>\n",
       "    <tr>\n",
       "      <th>63</th>\n",
       "      <td>Biological scientists</td>\n",
       "      <td>57.9</td>\n",
       "      <td>206.0</td>\n",
       "    </tr>\n",
       "    <tr>\n",
       "      <th>33</th>\n",
       "      <td>Market research analysts and marketing special...</td>\n",
       "      <td>57.9</td>\n",
       "      <td>206.0</td>\n",
       "    </tr>\n",
       "    <tr>\n",
       "      <th>249</th>\n",
       "      <td>Food batchmakers</td>\n",
       "      <td>58.1</td>\n",
       "      <td>196.0</td>\n",
       "    </tr>\n",
       "    <tr>\n",
       "      <th>83</th>\n",
       "      <td>Secondary school teachers</td>\n",
       "      <td>58.7</td>\n",
       "      <td>170.0</td>\n",
       "    </tr>\n",
       "    <tr>\n",
       "      <th>35</th>\n",
       "      <td>Accountants and auditors</td>\n",
       "      <td>58.8</td>\n",
       "      <td>166.0</td>\n",
       "    </tr>\n",
       "    <tr>\n",
       "      <th>204</th>\n",
       "      <td>Dispatchers, except police, fire, and ambulance</td>\n",
       "      <td>58.9</td>\n",
       "      <td>162.0</td>\n",
       "    </tr>\n",
       "    <tr>\n",
       "      <th>2</th>\n",
       "      <td>Marketing managers</td>\n",
       "      <td>58.9</td>\n",
       "      <td>162.0</td>\n",
       "    </tr>\n",
       "    <tr>\n",
       "      <th>149</th>\n",
       "      <td>Bartenders</td>\n",
       "      <td>59.0</td>\n",
       "      <td>159.0</td>\n",
       "    </tr>\n",
       "    <tr>\n",
       "      <th>185</th>\n",
       "      <td>Sales and related workers, all other</td>\n",
       "      <td>59.2</td>\n",
       "      <td>152.0</td>\n",
       "    </tr>\n",
       "    <tr>\n",
       "      <th>107</th>\n",
       "      <td>Pharmacists</td>\n",
       "      <td>59.6</td>\n",
       "      <td>139.0</td>\n",
       "    </tr>\n",
       "    <tr>\n",
       "      <th>34</th>\n",
       "      <td>Business operations specialists, all other</td>\n",
       "      <td>59.8</td>\n",
       "      <td>134.0</td>\n",
       "    </tr>\n",
       "    <tr>\n",
       "      <th>111</th>\n",
       "      <td>Respiratory therapists</td>\n",
       "      <td>60.6</td>\n",
       "      <td>115.0</td>\n",
       "    </tr>\n",
       "    <tr>\n",
       "      <th>86</th>\n",
       "      <td>Other teachers and instructors</td>\n",
       "      <td>60.8</td>\n",
       "      <td>110.0</td>\n",
       "    </tr>\n",
       "    <tr>\n",
       "      <th>172</th>\n",
       "      <td>Recreation workers</td>\n",
       "      <td>61.2</td>\n",
       "      <td>103.0</td>\n",
       "    </tr>\n",
       "    <tr>\n",
       "      <th>41</th>\n",
       "      <td>Tax preparers</td>\n",
       "      <td>61.6</td>\n",
       "      <td>96.0</td>\n",
       "    </tr>\n",
       "    <tr>\n",
       "      <th>171</th>\n",
       "      <td>Exercise trainers and group fitness instructors</td>\n",
       "      <td>62.9</td>\n",
       "      <td>77.0</td>\n",
       "    </tr>\n",
       "    <tr>\n",
       "      <th>247</th>\n",
       "      <td>Bakers</td>\n",
       "      <td>63.6</td>\n",
       "      <td>70.0</td>\n",
       "    </tr>\n",
       "    <tr>\n",
       "      <th>79</th>\n",
       "      <td>Title examiners, abstractors, and searchers</td>\n",
       "      <td>63.7</td>\n",
       "      <td>69.0</td>\n",
       "    </tr>\n",
       "    <tr>\n",
       "      <th>150</th>\n",
       "      <td>Fast food and counter workers</td>\n",
       "      <td>64.2</td>\n",
       "      <td>64.0</td>\n",
       "    </tr>\n",
       "    <tr>\n",
       "      <th>4</th>\n",
       "      <td>Public relations and fundraising managers</td>\n",
       "      <td>64.3</td>\n",
       "      <td>63.0</td>\n",
       "    </tr>\n",
       "    <tr>\n",
       "      <th>173</th>\n",
       "      <td>Personal care and service workers, all other</td>\n",
       "      <td>64.7</td>\n",
       "      <td>60.0</td>\n",
       "    </tr>\n",
       "    <tr>\n",
       "      <th>193</th>\n",
       "      <td>Customer service representatives</td>\n",
       "      <td>64.8</td>\n",
       "      <td>59.0</td>\n",
       "    </tr>\n",
       "  </tbody>\n",
       "</table>\n",
       "</div>"
      ],
      "text/plain": [
       "                                           Occupations  Women  Sample\n",
       "63                               Biological scientists   57.9   206.0\n",
       "33   Market research analysts and marketing special...   57.9   206.0\n",
       "249                                   Food batchmakers   58.1   196.0\n",
       "83                           Secondary school teachers   58.7   170.0\n",
       "35                            Accountants and auditors   58.8   166.0\n",
       "204    Dispatchers, except police, fire, and ambulance   58.9   162.0\n",
       "2                                   Marketing managers   58.9   162.0\n",
       "149                                         Bartenders   59.0   159.0\n",
       "185               Sales and related workers, all other   59.2   152.0\n",
       "107                                        Pharmacists   59.6   139.0\n",
       "34          Business operations specialists, all other   59.8   134.0\n",
       "111                             Respiratory therapists   60.6   115.0\n",
       "86                      Other teachers and instructors   60.8   110.0\n",
       "172                                 Recreation workers   61.2   103.0\n",
       "41                                       Tax preparers   61.6    96.0\n",
       "171    Exercise trainers and group fitness instructors   62.9    77.0\n",
       "247                                             Bakers   63.6    70.0\n",
       "79         Title examiners, abstractors, and searchers   63.7    69.0\n",
       "150                      Fast food and counter workers   64.2    64.0\n",
       "4            Public relations and fundraising managers   64.3    63.0\n",
       "173       Personal care and service workers, all other   64.7    60.0\n",
       "193                   Customer service representatives   64.8    59.0"
      ]
     },
     "execution_count": 15,
     "metadata": {},
     "output_type": "execute_result"
    }
   ],
   "source": [
    "potential"
   ]
  },
  {
   "cell_type": "code",
   "execution_count": null,
   "id": "62eb3091",
   "metadata": {},
   "outputs": [],
   "source": []
  }
 ],
 "metadata": {
  "kernelspec": {
   "display_name": "Python 3 (ipykernel)",
   "language": "python",
   "name": "python3"
  },
  "language_info": {
   "codemirror_mode": {
    "name": "ipython",
    "version": 3
   },
   "file_extension": ".py",
   "mimetype": "text/x-python",
   "name": "python",
   "nbconvert_exporter": "python",
   "pygments_lexer": "ipython3",
   "version": "3.9.7"
  }
 },
 "nbformat": 4,
 "nbformat_minor": 5
}
